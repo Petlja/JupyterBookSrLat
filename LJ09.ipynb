{
 "cells": [
  {
   "cell_type": "markdown",
   "metadata": {},
   "source": [
    "# 9. Sortiranje, filtriranje i frekvencijska analiza\n",
    "\n",
    "U ovoj lekciji ćemo govoriti o:\n",
    "1. preuređivanju redova tabele kako bi se poređali po veličini po nekom kriterijumu (_sortiranje_);\n",
    "2. izdvajanju redova tabele koji zadovoljavaju neke uslove (_filtriranje_); i\n",
    "3. brojanju redova tabele koji imaju neke osobine (_frekvencijska analiza_)."
   ]
  },
  {
   "cell_type": "markdown",
   "metadata": {},
   "source": [
    "## 9.1. Sortiranje podataka\n",
    "\n",
    "_Sortirati podatke_ znači poređati ih po veličini. Da bismo videli kako se to radi u biblioteci _pandas_ prvo ćemo učitati biblioteku:"
   ]
  },
  {
   "cell_type": "code",
   "execution_count": null,
   "metadata": {},
   "outputs": [],
   "source": [
    "import pandas as pd"
   ]
  },
  {
   "cell_type": "markdown",
   "metadata": {},
   "source": [
    "a onda ćemo napraviti tabelu sa podacima o grupi dece koju smo već koristili, kolonama ćemo dati odgovarajuća imena i indeksiraćemo tabelu imenima dece:"
   ]
  },
  {
   "cell_type": "code",
   "execution_count": null,
   "metadata": {},
   "outputs": [],
   "source": [
    "podaci = [[\"Ana\",     \"ž\", 13, 46, 160],\n",
    "          [\"Bojan\",   \"m\", 14, 52, 165],\n",
    "          [\"Vlada\",   \"m\", 13, 47, 157],\n",
    "          [\"Gordana\", \"ž\", 15, 54, 165],\n",
    "          [\"Dejan\",   \"m\", 15, 56, 163],\n",
    "          [\"Đorđe\",   \"m\", 13, 45, 159],\n",
    "          [\"Elena\",   \"ž\", 14, 49, 161],\n",
    "          [\"Žaklina\", \"ž\", 15, 52, 164],\n",
    "          [\"Zoran\",   \"m\", 15, 57, 167],\n",
    "          [\"Ivana\",   \"ž\", 13, 45, 158],\n",
    "          [\"Jasna\",   \"ž\", 14, 51, 162]]\n",
    "tabela = pd.DataFrame(podaci)\n",
    "tabela.columns=[\"Ime\", \"Pol\", \"Starost\", \"Masa\", \"Visina\"]\n",
    "tabela1 = tabela.set_index(\"Ime\")"
   ]
  },
  {
   "cell_type": "markdown",
   "metadata": {},
   "source": [
    "Evo kako tabela izgleda:"
   ]
  },
  {
   "cell_type": "code",
   "execution_count": null,
   "metadata": {},
   "outputs": [],
   "source": [
    "tabela1"
   ]
  },
  {
   "cell_type": "markdown",
   "metadata": {},
   "source": [
    "Hajde sada da sortiramo tabelu po visini upotrebom funkcije `sort_values` (engl. _sort_ znači \"sortiraj, poređaj po veličini\", dok _values_ znači \"vrednosti\").\n",
    "\n",
    "Ovoj funkciji moramo da kažemo po kom kriterijumu se sortiraju podaci (po visini, težini, starosti, ...) tako što ime odgovarajuće kolone navedemo kao vrednost argumenta `by` (engl. reč \"by\" znači svašta, ali u ovom kontekstu znači \"prema\").\n",
    "\n",
    "Funkcija ne menja polaznu tabelu, već od nje pravi novu:"
   ]
  },
  {
   "cell_type": "code",
   "execution_count": null,
   "metadata": {},
   "outputs": [],
   "source": [
    "tabela1_po_visini = tabela1.sort_values(by=\"Visina\")\n",
    "tabela1_po_visini"
   ]
  },
  {
   "cell_type": "markdown",
   "metadata": {},
   "source": [
    "Pošto nismo naveli kako želimo da sortiramo podatke (od najmanjeg ka najvećem, ili obrnuto) podaci su sortirani od najmanjeg ka najvećem. Ukoliko želimo da sortiramo tabelu po visini, ali od najveće ka najmanjoj, potrebno je to naglasiti koristeći parametar `ascending=False` (engl. _ascending_ znači \"rastuće\")."
   ]
  },
  {
   "cell_type": "code",
   "execution_count": null,
   "metadata": {},
   "outputs": [],
   "source": [
    "tabela1_po_visini = tabela1.sort_values(by=\"Visina\", ascending=False)\n",
    "tabela1_po_visini"
   ]
  },
  {
   "cell_type": "markdown",
   "metadata": {},
   "source": [
    "Hajde, za kraj, da prikažemo podatke iz ovako sortirane tabele."
   ]
  },
  {
   "cell_type": "code",
   "execution_count": null,
   "metadata": {},
   "outputs": [],
   "source": [
    "import matplotlib.pyplot as plt\n",
    "plt.figure(figsize=(10,5))\n",
    "plt.bar(tabela1_po_visini.index, tabela1_po_visini[\"Visina\"], label=\"Visina\")\n",
    "plt.bar(tabela1_po_visini.index, tabela1_po_visini[\"Masa\"], label=\"Masa\")\n",
    "plt.title(\"Visina i masa dece u grupi\")\n",
    "plt.legend()\n",
    "plt.show()\n",
    "plt.close()"
   ]
  },
  {
   "cell_type": "markdown",
   "metadata": {},
   "source": [
    "## 9.2. Filtriranje podataka\n",
    "\n",
    "Često je iz tabele potrebno izdvojiti redove koji imaju neke osobine. Na primer, ako želimo da izdvojimo samo one redove tabele u kojima su navedeni podaci o devojčicama, to možemo uraditi na sledeći način:\n",
    "\n",
    "    tabela1[tabela1.Pol == \"ž\"]\n",
    "\n",
    "Ovaj izraz će iz tabele `tabela1` izdvojiti sve redove kod kojih u koloni \"Pol\" piše \"ž\". (Obratite pažnju na to da se prilikom formiranja kriterijuma u izrazu `tabela1.Pol` ne pišu navodnici! Ne pitajte zašto...)"
   ]
  },
  {
   "cell_type": "code",
   "execution_count": null,
   "metadata": {},
   "outputs": [],
   "source": [
    "devojke = tabela1[tabela1.Pol == \"ž\"]\n",
    "devojke"
   ]
  },
  {
   "cell_type": "markdown",
   "metadata": {},
   "source": [
    "Na sličan način možemo da izdvojimo svu decu koja imaju preko 50 kg:"
   ]
  },
  {
   "cell_type": "code",
   "execution_count": null,
   "metadata": {},
   "outputs": [],
   "source": [
    "preko_50kg = tabela1[tabela1.Masa > 50]\n",
    "preko_50kg"
   ]
  },
  {
   "cell_type": "markdown",
   "metadata": {},
   "source": [
    "Kriterijume možemo i da kombinujemo. Na primer, ako želimo da iz tabele izvučemo podatke o svim dečacima sa najviše 55 kg treba iz tabele da izdvojimo podatke koji zadovoljavaju dva kriterijuma:\n",
    "\n",
    "    Masa <= 55  i  Pol == \"m\".\n",
    "\n",
    "Logički veznik \"i\" se u biblioteci `pandas` označava simbolom `&`. Prema tome, podatke dobijamo tako što tabeli prosledimo sledeći zahtev za filtriranje:"
   ]
  },
  {
   "cell_type": "code",
   "execution_count": null,
   "metadata": {},
   "outputs": [],
   "source": [
    "decaci_do_55kg = tabela1[(tabela1.Masa <= 55) & (tabela1.Pol == \"m\")]\n",
    "decaci_do_55kg"
   ]
  },
  {
   "cell_type": "markdown",
   "metadata": {},
   "source": [
    "Prikazaćemo, za kraj, podatke o masi i visini ovih dečaka jednim grafikonom:"
   ]
  },
  {
   "cell_type": "code",
   "execution_count": null,
   "metadata": {},
   "outputs": [],
   "source": [
    "plt.figure(figsize=(6,6))\n",
    "plt.bar(decaci_do_55kg.index, decaci_do_55kg[\"Visina\"], label=\"Visina\")\n",
    "plt.bar(decaci_do_55kg.index, decaci_do_55kg[\"Masa\"], label=\"Masa\")\n",
    "plt.title(\"Visina i masa dečaka do 55 kg u grupi\")\n",
    "plt.legend()\n",
    "plt.show()\n",
    "plt.close()"
   ]
  },
  {
   "cell_type": "markdown",
   "metadata": {},
   "source": [
    "## 9.3. Frekvencijska analiza\n",
    "\n",
    "\n",
    "Da se podsetimo, frekvencijska analiza niza podataka se svodi na to da se prebroji koliko se puta koji podatak pojavljuje u nizu.  Dok smo ranije morali dosta toga sami da uradimo, biblioteka `pandas` ima funkciju `value_counts` koja vrši frekvencijsku analizu (engl. _value_ znači \"vrednost\", dok _count_ znači \"brojati\"; dakle, prebrojati vrednosti).\n",
    "\n",
    "Evo primera. Ako u tabeli sa kojom radimo želimo da prebrojimo dečake i devojčice, to možemo učiniti pozivom funkcije `value_counts` ovako:"
   ]
  },
  {
   "cell_type": "code",
   "execution_count": null,
   "metadata": {},
   "outputs": [],
   "source": [
    "tabela1[\"Pol\"].value_counts()"
   ]
  },
  {
   "cell_type": "markdown",
   "metadata": {},
   "source": [
    "Funkcija `value_counts` je u koloni \"Pol\" prebrojala sve vrednosti i utvrdila da se u toj koloni vrednost \"ž\" pojavljuje 6 puta, dok se vrednost \"m\" pojavljuje 5 puta.\n",
    "\n",
    "Ako želimo da utvrdimo starosnu strukturu grupe, primenićemo funkciju `value_counts` na kolonu \"Starost\":"
   ]
  },
  {
   "cell_type": "code",
   "execution_count": null,
   "metadata": {},
   "outputs": [],
   "source": [
    "tabela1[\"Starost\"].value_counts()"
   ]
  },
  {
   "cell_type": "markdown",
   "metadata": {},
   "source": [
    "Funkcija `value_counts` je u koloni \"Starost\" prebrojala sve vrednosti i utvrdila da se u toj koloni vrednosti 15 i 13 pojavljuju po 4 puta, dok se vrednost 14 pojavljuje 3 puta.\n",
    "\n",
    "Ako rezultat rada funkcije `value_counts` smestimo u promenljivu:"
   ]
  },
  {
   "cell_type": "code",
   "execution_count": null,
   "metadata": {},
   "outputs": [],
   "source": [
    "frekv = tabela1[\"Pol\"].value_counts()\n",
    "frekv"
   ]
  },
  {
   "cell_type": "markdown",
   "metadata": {},
   "source": [
    "onda možemo lako da rekonstruišemo koje su vrednosti uočene u tabeli, i koje su njihove frekvencije. Naime,\n",
    "\n",
    "    frekv.index\n",
    "    \n",
    "nam daje listu uočenih vrednosti, dok\n",
    "    \n",
    "    frekv.values\n",
    "\n",
    "daje njihove frekvencije."
   ]
  },
  {
   "cell_type": "code",
   "execution_count": null,
   "metadata": {},
   "outputs": [],
   "source": [
    "print(\"Vrednosti koje se javljaju u koloni:\", frekv.index)\n",
    "print(\"Njihove frekvencije:\", frekv.values)"
   ]
  },
  {
   "cell_type": "markdown",
   "metadata": {},
   "source": [
    "Polnu strukturu ove grupe dece možemo da prikažemo sektorskim dijagramom ovako:"
   ]
  },
  {
   "cell_type": "code",
   "execution_count": null,
   "metadata": {},
   "outputs": [],
   "source": [
    "import matplotlib.pyplot as plt\n",
    "frekv = tabela1[\"Pol\"].value_counts()\n",
    "plt.figure(figsize=(6,6))\n",
    "plt.pie(frekv.values, labels=frekv.index)\n",
    "plt.title(\"Polna struktura grupe\")\n",
    "plt.show()\n",
    "plt.close()"
   ]
  },
  {
   "cell_type": "markdown",
   "metadata": {},
   "source": [
    "Na sličan način možemo da prikažemo starosnu strukturu grupe:"
   ]
  },
  {
   "cell_type": "code",
   "execution_count": null,
   "metadata": {},
   "outputs": [],
   "source": [
    "frekv = tabela1[\"Starost\"].value_counts()\n",
    "plt.figure(figsize=(6,6))\n",
    "plt.pie(frekv.values, labels=frekv.index)\n",
    "plt.title(\"Starosna struktura grupe\")\n",
    "plt.show()\n",
    "plt.close()"
   ]
  },
  {
   "cell_type": "markdown",
   "metadata": {},
   "source": [
    "Na adresi\n",
    "\n",
    "    https://raw.githubusercontent.com/cs109/2014_data/master/countries.csv\n",
    "    \n",
    "se nalazi javno dostupan spisak svih država na svetu. Ovu tabelu možemo lako učitati naredbom `read_csv`:"
   ]
  },
  {
   "cell_type": "code",
   "execution_count": null,
   "metadata": {},
   "outputs": [],
   "source": [
    "drzave = pd.read_csv(\"https://raw.githubusercontent.com/cs109/2014_data/master/countries.csv\")\n",
    "drzave.head(5)"
   ]
  },
  {
   "cell_type": "markdown",
   "metadata": {},
   "source": [
    "Broj država po kontinentima možemo videti ovako:"
   ]
  },
  {
   "cell_type": "code",
   "execution_count": null,
   "metadata": {},
   "outputs": [],
   "source": [
    "drzave[\"Region\"].value_counts()"
   ]
  },
  {
   "cell_type": "markdown",
   "metadata": {},
   "source": [
    "Prikažimo broj država po kontinentima sektorskim dijagramom:"
   ]
  },
  {
   "cell_type": "code",
   "execution_count": null,
   "metadata": {},
   "outputs": [],
   "source": [
    "import matplotlib.pyplot as plt\n",
    "po_kontinentima = drzave[\"Region\"].value_counts()\n",
    "plt.figure(figsize=(8,8))\n",
    "plt.pie(po_kontinentima.values, labels=po_kontinentima.index)\n",
    "plt.title(\"Broj država po kontinentima\")\n",
    "plt.show()\n",
    "plt.close()"
   ]
  },
  {
   "cell_type": "markdown",
   "metadata": {},
   "source": [
    "## 9.4. Zadaci\n",
    "\n",
    "Zadatke reši u Džupajteru."
   ]
  },
  {
   "cell_type": "markdown",
   "metadata": {},
   "source": [
    "**Zadatak 1.** Pogledaj program i dijagram, pa odgovori na sledeća pitanja:"
   ]
  },
  {
   "cell_type": "code",
   "execution_count": null,
   "metadata": {},
   "outputs": [],
   "source": [
    "import pandas as pd\n",
    "import matplotlib.pyplot as plt\n",
    "\n",
    "podaci = [[\"Ana\",     \"ž\", 13, 46, 160],\n",
    "          [\"Bojan\",   \"m\", 14, 52, 165],\n",
    "          [\"Vlada\",   \"m\", 13, 47, 157],\n",
    "          [\"Gordana\", \"ž\", 15, 54, 165],\n",
    "          [\"Dejan\",   \"m\", 15, 56, 163],\n",
    "          [\"Đorđe\",   \"m\", 13, 45, 159]]\n",
    "\n",
    "tabela = pd.DataFrame(podaci)\n",
    "tabela.columns=[\"Ime\", \"Pol\", \"Starost\", \"Masa\", \"Visina\"]\n",
    "tabela1=tabela.set_index(\"Ime\")\n",
    "\n",
    "tabela_po_visini = tabela1.sort_values(by=\"Visina\")\n",
    "\n",
    "plt.figure(figsize=(10,5))\n",
    "plt.bar(tabela_po_visini.index, tabela_po_visini[\"Visina\"])\n",
    "plt.ylim(140,170)\n",
    "plt.show()\n",
    "plt.close()"
   ]
  },
  {
   "cell_type": "markdown",
   "metadata": {},
   "source": [
    "1. Zašto stubići na dijagramu rastu kada to nije slučaj sa podacima u listi `podaci`?\n",
    "2. Šta treba izmeniti u programu da bismo dobili grafikon koji opada?"
   ]
  },
  {
   "cell_type": "markdown",
   "metadata": {},
   "source": [
    "**Zadatak 2.** U datoteci _podaci/RekeSrbije.csv_ navedene su najduže reke Srbije, njihova ukupna dužina u km, i dužina toka kroz Srbiju u km.\n",
    "\n",
    "_(a)_ Učitaj podatke u tabelu (tabela ima zaglavlje), i prikaži prvih nekoliko redova tabele."
   ]
  },
  {
   "cell_type": "markdown",
   "metadata": {},
   "source": [
    " \n",
    "_(b)_ Sortiraj tabelu po dužini toka reke kroz Srbiju."
   ]
  },
  {
   "cell_type": "markdown",
   "metadata": {},
   "source": [
    "_(v)_ Za navedene reke prikaži linijskim dijagramom ukupnu dužinu, i dužinu toka reke kroz Srbiju."
   ]
  },
  {
   "cell_type": "markdown",
   "metadata": {},
   "source": [
    "_(g)_ Od date tabele napravi novu u kojoj su izdvojene samo one reke koje bar polovinu svog toka protiču kroz Srbiju, pa tako dobijenu tabelu upiši u datoteku _podaci/Reke2.csv_ vodeći računa o tome da su neki podaci u tabeli zapisani ćirilicom."
   ]
  },
  {
   "cell_type": "markdown",
   "metadata": {},
   "source": [
    "**Zadatak 3.** Nutritivni podaci za neke ribe i morske plodove su dati u sledećoj tabeli:\n",
    "\n",
    "| Namirnica (100g) | Energetska vrednost (kcal) | Ugljeni hidrati (g) | Belančevine (g) | Masti (g) |\n",
    "|--|--|--|--|--|\n",
    "|Tuna|116|0|26|1|\n",
    "|Oslić|88|0|17.2|0.8|\n",
    "|Pastrmka|119|0|18|5|\n",
    "|Losos|116|0|20|3.5|\n",
    "|Skuša|205|0|19|14|\n",
    "|Sardine|135|0|18|5|\n",
    "|Haringa|158|0|18|9|\n",
    "|Bakalar|82|0|18|0.7|\n",
    "|Som|95|0|16.4|2.8|\n",
    "|Šaran|127|0|17.6|5.6|\n",
    "|Orada|115|0|16.5|5.5|\n",
    "|Jegulja|184|0|18.4|11.7|\n",
    "|Škampi|106|1|20|2|\n",
    "|Dagnje|86|4|12|2|\n",
    "|Kozice|71|1|13|1|\n",
    "|Lignje|92|3|15.6|1.3|\n",
    "|Hobotnica|81|0|16.4|0.9|\n",
    "|Jastog|112|0|20|1.5|\n",
    "\n",
    "Podaci iz tabele su predstavljeni listom u ćeliji ispod:"
   ]
  },
  {
   "cell_type": "code",
   "execution_count": null,
   "metadata": {},
   "outputs": [],
   "source": [
    "# izvrši ovu ćeliju\n",
    "morski_plodovi = [\n",
    "  [\"Tuna\", 116, 0, 26, 1],\n",
    "  [\"Oslić\", 88, 0, 17.2, 0.8],\n",
    "  [\"Pastrmka\", 119, 0, 18, 5],\n",
    "  [\"Losos\", 116, 0, 20, 3.5],\n",
    "  [\"Skuša\", 205, 0, 19, 14],\n",
    "  [\"Sardine\", 135, 0, 18, 5],\n",
    "  [\"Haringa\", 158, 0, 18, 9],\n",
    "  [\"Bakalar\", 82, 0, 18, 0.7],\n",
    "  [\"Som\", 95, 0, 16.4, 2.8],\n",
    "  [\"Šaran\", 127, 0, 17.6, 5.6],\n",
    "  [\"Orada\", 115, 0, 16.5, 5.5],\n",
    "  [\"Jegulja\", 184, 0, 18.4, 11.7],\n",
    "  [\"Škampi\", 106, 1, 20, 2],\n",
    "  [\"Dagnje\", 86, 4, 12, 2],\n",
    "  [\"Kozice\", 71, 1, 13, 1],\n",
    "  [\"Lignje\", 92, 3, 15.6, 1.3],\n",
    "  [\"Hobotnica\", 81, 0, 16.4, 0.9],\n",
    "  [\"Jastog\", 112, 0, 20, 1.5]]"
   ]
  },
  {
   "cell_type": "markdown",
   "metadata": {},
   "source": [
    "_(a)_ Od ove liste u ćeliji ispod napravi _DataFrame_ i daj kolonama tabele pogodna imena. Predlažemo da svakoj koloni daš ime koje će biti samo jedna reč (recimo \"Namirnica\", \"EnergVr\", \"UH\", \"Bel\", \"Masti\") kako bi u kasnijim zadacima lakše imenovao kolone tabele."
   ]
  },
  {
   "cell_type": "markdown",
   "metadata": {},
   "source": [
    "_(b)_ Sortiraj tabelu po energetskoj vrednosti namirnice od najveće ka najmanjoj vrednosti i prikaži histogramom tako sortirane energetske vrednosti."
   ]
  },
  {
   "cell_type": "markdown",
   "metadata": {},
   "source": [
    "_(v)_ Od ovako sortirane tabele napravi novu u kojoj su samo one namirnice koje ne sadrže ugljene hidrate i imaju manje od 10 g masti na 100 g namirnice."
   ]
  },
  {
   "cell_type": "markdown",
   "metadata": {},
   "source": [
    "_(g)_ Napravi frekvencijsku analizu ovih podataka prema količini ugljenih hidrata i prikaži rezultate analize sektorskim dijagramom."
   ]
  },
  {
   "cell_type": "markdown",
   "metadata": {},
   "source": [
    "**Zadatak 4.** Učenici jednog razreda su skakali u dalj. Svaki učenik je skakao tri puta i rezultati su dati u datoteci _SkokUDalj.csv_ koja se nalazi u folderu _podaci_. Tabela ima zaglavlje i sastoji se od četiri kolone: \"Prezime i ime\", \"Skok1\", \"Skok2\" i \"Skok3\".\n",
    "\n",
    "_(a)_ Učitaj datoteku u strukturu podataka _DataFrame_."
   ]
  },
  {
   "cell_type": "markdown",
   "metadata": {},
   "source": [
    "_(b)_ Dodaj tabeli novu kolonu \"Maks\" i onda za svakog učenika izračunaj i u tu kolonu upiši njegov najbolji skok."
   ]
  },
  {
   "cell_type": "markdown",
   "metadata": {},
   "source": [
    "_(v)_ Sortiraj tabelu po koloni \"Maks\" i prikaži prvih pet redova tako sortirane tabele (da vidimo ko su najbolji skakači u razredu)."
   ]
  },
  {
   "cell_type": "markdown",
   "metadata": {},
   "source": [
    "_(g)_ Izdvoj iz tabele one redove koji sadrže učenike koji su načinili bar jedan prestup. Prestup je u tabeli označen tako što je dužina odgovarajućeg skoka postavljena na 0."
   ]
  },
  {
   "cell_type": "markdown",
   "metadata": {},
   "source": [
    "**Zadatak 5.** U narednoj ćeliji se nalaze podaci o nekoliko učenika. Za svakog učenika je navedeno njegovo prezime, ime, JMBG, pol, razred koji pohađa i prosek na kraju tog razreda:"
   ]
  },
  {
   "cell_type": "code",
   "execution_count": null,
   "metadata": {},
   "outputs": [],
   "source": [
    "# izvrši ovu ćeliju\n",
    "podaci = [\n",
    "    [\"Petrović\",  \"Petar\", \"0308003800019\", \"m\", 8, 4.52],\n",
    "    [\"Jasnić\",    \"Jasna\", \"1210003805026\", \"ž\", 8, 5.00],\n",
    "    [\"Aničić\",    \"Anica\", \"1105004805019\", \"ž\", 7, 4.11],\n",
    "    [\"Vesnić\",    \"Vesna\", \"2901005705011\", \"ž\", 6, 5.00],\n",
    "    [\"Đorđević\",  \"Đorđe\", \"1504005700012\", \"m\", 6, 3.12],\n",
    "    [\"Milošev\",   \"Miloš\", \"1506004400056\", \"m\", 7, 2.51],\n",
    "    [\"Milošev\",   \"Petar\", \"1506004400057\", \"m\", 7, 2.48],\n",
    "    [\"Nenadović\", \"Nenad\", \"2109003800046\", \"m\", 8, 3.58],\n",
    "    [\"Nenadović\", \"Jasna\", \"2109003805021\", \"ž\", 8, 4.21]]"
   ]
  },
  {
   "cell_type": "markdown",
   "metadata": {},
   "source": [
    "_(a)_ Formiraj odgovarajuću tabelu pozivom funkcije _DataFrame_."
   ]
  },
  {
   "cell_type": "markdown",
   "metadata": {},
   "source": [
    "_(b)_ Prikaži sektorskim dijagramom polnu strukturu ove grupe."
   ]
  },
  {
   "cell_type": "markdown",
   "metadata": {},
   "source": [
    "_(v)_ Prikaži sektorskim dijagramom starosnu strukturu ove grupe uzimajući u obzir razred koji je učenik završio."
   ]
  },
  {
   "cell_type": "markdown",
   "metadata": {},
   "source": [
    "_(g)_ Koju kolonu je najbolje odabrati kao ključ za indeksiranje ove tabele? U ćeliji ispod ove napravi novu tabelu koja se dobija indeksiranjem prethodne tabele odabranom kolonom."
   ]
  },
  {
   "cell_type": "markdown",
   "metadata": {},
   "source": [
    "_(d)_ Šta misliš, zašto svaki državljanin naše države ima JMBG?"
   ]
  },
  {
   "cell_type": "markdown",
   "metadata": {},
   "source": [
    "_(đ)_ Napravi novu tabelu koju čine samo učenici osmog razreda."
   ]
  },
  {
   "cell_type": "markdown",
   "metadata": {},
   "source": [
    "_(e)_ Napravi novu tabelu koju čine samo vrlo dobri učenici."
   ]
  },
  {
   "cell_type": "markdown",
   "metadata": {},
   "source": [
    "_(ž)_ Napravi novu tabelu koju čine samo dečaci koji nisu odlični."
   ]
  },
  {
   "cell_type": "markdown",
   "metadata": {},
   "source": [
    "**Zadatak 6.** Na adresi\n",
    "\n",
    "    https://raw.githubusercontent.com/resbaz/r-novice-gapminder-files/master/data/gapminder-FiveYearData.csv\n",
    "\n",
    "se nalazi javno dostupna tabela sa spiskom država sveta i nekim parametrima ekonomskog razvoja tih država praćenim u intervalima od 5 godina.\n",
    "\n",
    "Tabela ima sledeće kolone:\n",
    "\n",
    "* country = država\n",
    "* year = godina na koju se odnose podaci\n",
    "* pop = broj stanovnika (engl. _population_)\n",
    "* continent = kontinent\n",
    "* lifeExp = očekivani životni vek u godinama (engl. _life expextancy_)\n",
    "* gdpPercap = BDP po glavi stanovnika u američkim dolarima (engl. _GDP per capitem_)\n",
    "\n",
    "_(a)_ Učitaj ovu tabelu u strukturu podataka _DataFrame_."
   ]
  },
  {
   "cell_type": "markdown",
   "metadata": {},
   "source": [
    "_(b)_ U novu tabelu izdvoj podatke koji se odnose na Srbiju (Uputstvo: `tabela[tabela.country == \"Serbia\"]`)"
   ]
  },
  {
   "cell_type": "markdown",
   "metadata": {},
   "source": [
    "_(v)_ Prikaži linijskim dijagramom kako se menjao očekivani životni vek građana Srbije za godine za koje postoje podaci u tabeli."
   ]
  },
  {
   "cell_type": "markdown",
   "metadata": {},
   "source": [
    "_(g)_ Prikaži histogramom kako se menjao BDP po glavi stanovnika Srbije za godine za koje postoje podaci u tabeli."
   ]
  },
  {
   "cell_type": "markdown",
   "metadata": {},
   "source": [
    "_(d)_ Tabelu koja se odnosi na Srbiju upiši u datoteku _FYDSerbia.csv_ (svi podaci u tabeli su zapisani engleskim alfabetom pa nema muke oko sistema za kodiranje podataka), ali tako da u datoteku ne upišemo indeksnu kolonu."
   ]
  }
 ],
 "metadata": {
  "kernelspec": {
   "display_name": "Python 3",
   "language": "python",
   "name": "python3"
  },
  "language_info": {
   "codemirror_mode": {
    "name": "ipython",
    "version": 3
   },
   "file_extension": ".py",
   "mimetype": "text/x-python",
   "name": "python",
   "nbconvert_exporter": "python",
   "pygments_lexer": "ipython3",
   "version": "3.7.1"
  }
 },
 "nbformat": 4,
 "nbformat_minor": 2
}
