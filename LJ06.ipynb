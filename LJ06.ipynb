{
 "cells": [
  {
   "cell_type": "markdown",
   "metadata": {},
   "source": [
    "# 6. Tabelarno predstavljeni podaci\n",
    "\n",
    "U ovoj lekciji ćemo govoriti o:\n",
    "1. predstavljanju tabelarno zadatih podataka pomoću listi u Pajtonu,\n",
    "2. efikasnijem predstavljanju tabelarnih podataka koristeći biblioteku _pandas_,\n",
    "3. vizuelizaciji tabelarno predstavljenih podataka, i\n",
    "4. učitavanje tabela iz lokalnih i udaljenih resursa."
   ]
  },
  {
   "cell_type": "markdown",
   "metadata": {},
   "source": [
    "## 6.1. Predstavljanje tabelarno zadatih podataka pomoću listi\n",
    "\n",
    "Najčešći način da organizujemo velike količine podataka je da ih predstavimo tabelom. Recimo, ova tabela sadrži podatke o jednoj grupi dece (pri čemu je, naravno, starost izražena u godinama, težina u kilogramima, a visina u centimetrima):\n",
    "\n",
    "| __Ime__ | __Pol__ | __Starost__ | __Masa__ | __Visina__ |\n",
    "|---|---|---|---|---|\n",
    "|      Ana | ž | 13 | 46 | 160 |\n",
    "|    Bojan | m | 14 | 52 | 165 |\n",
    "|    Vlada | m | 13 | 47 | 157 |\n",
    "|  Gordana | ž | 15 | 54 | 165 |\n",
    "|    Dejan | m | 15 | 56 | 163 |\n",
    "|    Đorđe | m | 13 | 45 | 159 |\n",
    "|    Elena | ž | 14 | 49 | 161 |\n",
    "|  Žaklina | ž | 15 | 52 | 164 |\n",
    "|    Zoran | m | 15 | 57 | 167 |\n",
    "|    Ivana | ž | 13 | 45 | 158 |\n",
    "|    Jasna | ž | 14 | 51 | 162 |\n",
    "\n",
    "\n",
    "Da bismo mogli mašinski da obrađujemo i analiziramo podatke, prvo ih moramo predstaviti u obliku neke strukture podataka. Jedan jednostavan način da se to uradi je da svaki red tabele predstavimo jednom listom, i da potom sve te liste zapakujemo u jednu veliku listu, recimo ovako:"
   ]
  },
  {
   "cell_type": "code",
   "execution_count": null,
   "metadata": {},
   "outputs": [],
   "source": [
    "podaci = [[\"Ana\",     \"ž\", 13, 46, 160],\n",
    "          [\"Bojan\",   \"m\", 14, 52, 165],\n",
    "          [\"Vlada\",   \"m\", 13, 47, 157],\n",
    "          [\"Gordana\", \"ž\", 15, 54, 165],\n",
    "          [\"Dejan\",   \"m\", 15, 56, 163],\n",
    "          [\"Đorđe\",   \"m\", 13, 45, 159],\n",
    "          [\"Elena\",   \"ž\", 14, 49, 161],\n",
    "          [\"Žaklina\", \"ž\", 15, 52, 164],\n",
    "          [\"Zoran\",   \"m\", 15, 57, 167],\n",
    "          [\"Ivana\",   \"ž\", 13, 45, 158],\n",
    "          [\"Jasna\",   \"ž\", 14, 51, 162]]"
   ]
  },
  {
   "cell_type": "markdown",
   "metadata": {},
   "source": [
    "Iz ovako predstavljenih podataka lako možemo dobiti podatke o svakom pojedinačnom detetu u grupi. Recimo, podatke o Dejanu dobijamo tako što ispišemo element liste sa indeksom 4 (_Pažnja! Prvi element liste ima indeks 0, zato podaci o Dejanu koji su navedeni u 5. redu tabele imaju indeks 4_):"
   ]
  },
  {
   "cell_type": "code",
   "execution_count": null,
   "metadata": {},
   "outputs": [],
   "source": [
    "podaci[4]"
   ]
  },
  {
   "cell_type": "markdown",
   "metadata": {},
   "source": [
    "Ovaj način predstavljanja podataka, međutim, nije pogodan za obrade po kolonama. Recimo, ako želimo da izračunamo prosečnu visinu dece u grupi moramo da pišemo program. To nije nemoguće, čak nije ni teško, ali je nepraktično. Evo programa:"
   ]
  },
  {
   "cell_type": "code",
   "execution_count": null,
   "metadata": {},
   "outputs": [],
   "source": [
    "sum = 0\n",
    "for dete in podaci:\n",
    "    sum += dete[4]\n",
    "float(sum) / len(podaci)"
   ]
  },
  {
   "cell_type": "markdown",
   "metadata": {},
   "source": [
    "Program radi na sledeći način:\n",
    "\n",
    "* prvo pomoćnu promenljivu `sum` postavimo na nulu (u njoj će se polako akumulirati zbir visina sve dece u grupi);\n",
    "* nakon toga ciklus `for dete in podaci:` prođe kroz svako dete u grupi (jer svaki element liste `podaci` predstavlja podatke o jednom detetu) i na sumu doda njegovu visinu (visina deteta se nalazi na petom mestu u grupi podataka za to dete, a to je element liste sa indeksom 4);\n",
    "* konačno, dobijeni zbir podelimo brojem podataka da bismo izračunali prosek.\n",
    "\n",
    "Kao što smo već rekli, ovo nije jako teško, ali je nepraktično. Treba nam fleksibilnija struktura podataka."
   ]
  },
  {
   "cell_type": "markdown",
   "metadata": {},
   "source": [
    "## 6.2. Biblioteka _pandas_, struktura podataka _DataFrame_ i rad sa kolonama tabele\n",
    "\n",
    "Za efikasno manipulisanje tabelarno predstavljenim podacima u Pajtonu razvijena je biblioteka _pandas_. Nju možemo uvesti kao što smo uvozili i ostale biblioteke (i uz put ćemo joj dati nadimak da bismo manje morali da kucamo):"
   ]
  },
  {
   "cell_type": "code",
   "execution_count": null,
   "metadata": {},
   "outputs": [],
   "source": [
    "import pandas as pd"
   ]
  },
  {
   "cell_type": "markdown",
   "metadata": {},
   "source": [
    "Iz ove biblioteke ćemo koristiti strukturu podataka koja se zove _DataFrame_ (engl. _data_ znači \"podaci\", _frame_ znači \"okvir\", tako da _DataFrame_ znači \"okvir sa podacima\", odnosno \"tabela\").\n",
    "\n",
    "Podatke o deci sada lako možemo da prepakujemo u _DataFrame_ pozivom funkcije sa istim imenom:"
   ]
  },
  {
   "cell_type": "code",
   "execution_count": null,
   "metadata": {},
   "outputs": [],
   "source": [
    "tabela = pd.DataFrame(podaci)"
   ]
  },
  {
   "cell_type": "markdown",
   "metadata": {},
   "source": [
    "Prethodna komanda nije dala nikakav izlaz. Ona je prosto prepakovala podatke navedene u listi `podaci` u novu strukturu podataka. Da bismo se uverili da se radi samo o prepakivanju, ispisaćemo sadržaj promenljive `tabela`:"
   ]
  },
  {
   "cell_type": "code",
   "execution_count": null,
   "metadata": {},
   "outputs": [],
   "source": [
    "tabela"
   ]
  },
  {
   "cell_type": "markdown",
   "metadata": {},
   "source": [
    "Da bi tabela bila preglednija, daćemo kolonama ime. Kolonama se ime daje prilikom prepakivanja, tako što se lista sa imenima kolona prosledi pomoćnom parametru `columns`:"
   ]
  },
  {
   "cell_type": "code",
   "execution_count": null,
   "metadata": {},
   "outputs": [],
   "source": [
    "tabela = pd.DataFrame(podaci)\n",
    "tabela.columns=[\"Ime\", \"Pol\", \"Starost\", \"Masa\", \"Visina\"]\n",
    "tabela"
   ]
  },
  {
   "cell_type": "markdown",
   "metadata": {},
   "source": [
    "Kada svaka kolona ima svoje ime, možemo da pristupimo pojedinačnim kolonama:"
   ]
  },
  {
   "cell_type": "code",
   "execution_count": null,
   "metadata": {},
   "outputs": [],
   "source": [
    "tabela[\"Ime\"]"
   ]
  },
  {
   "cell_type": "code",
   "execution_count": null,
   "metadata": {},
   "outputs": [],
   "source": [
    "tabela[\"Visina\"]"
   ]
  },
  {
   "cell_type": "markdown",
   "metadata": {},
   "source": [
    "Imena svih kolona su uvek dostupna u obliku liste ovako:"
   ]
  },
  {
   "cell_type": "code",
   "execution_count": null,
   "metadata": {},
   "outputs": [],
   "source": [
    "tabela.columns"
   ]
  },
  {
   "cell_type": "markdown",
   "metadata": {},
   "source": [
    "Pozivom jedne od sledećih funkcija lako možemo da vršimo elementarnu analizu podataka koji su predstavljeni tabelom:\n",
    "* `sum` -- računa zbir elemenata u koloni (suma);\n",
    "* `mean` -- računa prosek elemenata u koloni (aritmetička sredina se na engleskom kaže _arithmetic mean_);\n",
    "* `median` -- računa medijanu elemenata u koloni;\n",
    "* `min` -- računa vrednost najmanjeg elementa u koloni (minimum);\n",
    "* `max` -- računa vrednost najvećeg elementa u koloni (maksimum).\n",
    "\n",
    "Na primer, visina najnižeg deteta u grupi je:"
   ]
  },
  {
   "cell_type": "code",
   "execution_count": null,
   "metadata": {},
   "outputs": [],
   "source": [
    "tabela[\"Visina\"].min()"
   ]
  },
  {
   "cell_type": "markdown",
   "metadata": {},
   "source": [
    "Najstarije dete u grupi ima ovoliko godina:"
   ]
  },
  {
   "cell_type": "code",
   "execution_count": null,
   "metadata": {},
   "outputs": [],
   "source": [
    "tabela[\"Starost\"].max()"
   ]
  },
  {
   "cell_type": "markdown",
   "metadata": {},
   "source": [
    "Prosečna visina dece u grupi je:"
   ]
  },
  {
   "cell_type": "code",
   "execution_count": null,
   "metadata": {},
   "outputs": [],
   "source": [
    "tabela[\"Visina\"].mean()"
   ]
  },
  {
   "cell_type": "markdown",
   "metadata": {},
   "source": [
    "Medijalna visina:"
   ]
  },
  {
   "cell_type": "code",
   "execution_count": null,
   "metadata": {},
   "outputs": [],
   "source": [
    "tabela[\"Visina\"].median()"
   ]
  },
  {
   "cell_type": "markdown",
   "metadata": {},
   "source": [
    "Da li cela grupa može da stane u lift čija nosivost je 600 kg?"
   ]
  },
  {
   "cell_type": "code",
   "execution_count": null,
   "metadata": {},
   "outputs": [],
   "source": [
    "if tabela[\"Masa\"].sum() <= 600:\n",
    "    print(\"Mogu svi da stanu u lift.\")\n",
    "else:\n",
    "    print(\"Ne. Zajedno su preteški.\")"
   ]
  },
  {
   "cell_type": "markdown",
   "metadata": {},
   "source": [
    "## 6.3. Vizuelizacija tabelarno predstavljenih podataka"
   ]
  },
  {
   "cell_type": "markdown",
   "metadata": {},
   "source": [
    "Vizuelizacija podataka iz tabele se svodi na to da se odaberu interesantne kolone tabele i prikažu nekom od tehnika koje smo ranije videli. Prvo ćemo učitati odgovarajuću biblioteku:"
   ]
  },
  {
   "cell_type": "code",
   "execution_count": null,
   "metadata": {},
   "outputs": [],
   "source": [
    "import matplotlib.pyplot as plt"
   ]
  },
  {
   "cell_type": "markdown",
   "metadata": {},
   "source": [
    "Ako želimo histogramom da predstavimo visinu dece u grupi, odabraćemo kolone \"Ime\" i \"Visina\" i prikazati ih, recimo ovako:"
   ]
  },
  {
   "cell_type": "code",
   "execution_count": null,
   "metadata": {},
   "outputs": [],
   "source": [
    "plt.figure(figsize=(10,5))\n",
    "plt.bar(tabela[\"Ime\"], tabela[\"Visina\"])\n",
    "plt.title(\"Visina dece u grupi\")\n",
    "plt.show()\n",
    "plt.close()"
   ]
  },
  {
   "cell_type": "markdown",
   "metadata": {},
   "source": [
    "Kao drugi primer predstavićemo težinu i starost dece u grupi tako da težina bude predstavljena crvenim stubićima, a starost zelenom. Prikazaćemo i legendu da bi bilo jasno šta koja boja predstavlja."
   ]
  },
  {
   "cell_type": "code",
   "execution_count": null,
   "metadata": {},
   "outputs": [],
   "source": [
    "plt.figure(figsize=(10,5))\n",
    "plt.bar(tabela[\"Ime\"], tabela[\"Masa\"], color=\"r\", label=\"Masa\")\n",
    "plt.bar(tabela[\"Ime\"], tabela[\"Starost\"], color=\"g\", label=\"Starost\")\n",
    "plt.title(\"Starost i masa dece u grupi\")\n",
    "plt.legend()\n",
    "plt.show()\n",
    "plt.close()"
   ]
  },
  {
   "cell_type": "markdown",
   "metadata": {},
   "source": [
    "## 6.4. Učitavanje podataka iz lokalnih _CSV_ datoteka\n",
    "\n",
    "Videli smo u prethodnim primerima da se najmukotrpniji posao obrade podataka sastoji u tome da se podaci unesu u tabelu. To je dosadan posao koji se često sastoji u tome da se podaci prosto prekucaju. Tabele sa kojima smo se sretali su zato bile veoma male. Moderna obrada podataka se, međutim, sve više usmerava na analizu _ogromnih_ količina podataka (engl. _big data_) i tu prekucavanje podataka ne dolazi u obzir.\n",
    "\n",
    "Podaci se danas uglavnom prikupljaju automatski, i programi za prikupljanje podataka generišu velike tabele podataka koje posle treba obrađivati. Postoje razni formati za tabelarno predstavljanje podataka, a najjednostavniji od njih se zove _CSV_, (od engl. _comma separated values_ što znači \"vrednosti razdvojene zarezima\").\n",
    "\n",
    "_CSV_ datoteka je tekstualna datoteka u kojoj redovi odgovaraju redovima tabele, a podaci unutar istog reda su razdvojeni zarezima. Na primer, u folderu _podaci_ se nalazi datoteka _Top 25 YouTubers.csv_ koja izgleda ovako:\n",
    "\n",
    "    RANK,GRADE,NAME,VIDEOS,SUBSCRIBERS,VIEWES\n",
    "    1,A++,T-Series,13629,105783888,76945588449\n",
    "    2,A,PewDiePie,3898,97853589,22298927681\n",
    "    3,A+,5-Minute Crafts,3341,58629572,14860695079\n",
    "    4,A++,Cocomelon - Nursery Rhymes,441,53163816,33519273951\n",
    "    ...\n",
    "    25,A,TheEllenShow,10542,33362512,16519572219\n",
    "\n",
    "Ova tabela sadrži podatke o 25 najpopularnijih Jutjubera prema broju pretplatnika na dan 1.7.2019. Prvi red tabele predstavlja zaglavlje tabele koje nam kaže da tabela ima šest kolona (RANK, GRADE, NAME, VIDEOS, SUBSCRIBERS, VIEWES). Vrsta\n",
    "\n",
    "    4,A++,Cocomelon - Nursery Rhymes,441,53163816,33519273951\n",
    "\n",
    "znači da je na dan 1.7.2019. četvrti po redu bio Jutjub kanal sa Jutjub rangom A++ koji se zove \"Cocomelon - Nursery Rhymes\" koji je objavio ukupno 441 video na Jutjubu, koji ima 53.163.816 pretplatnika i 33.519.273.951 pregleda.\n",
    "\n",
    "Biblioteka `pandas` ima funkciju `read_csv` koja učitava _CSV_ datoteku i od nje pravi tabelu tipa _DataFrame_. Evo primera:"
   ]
  },
  {
   "cell_type": "code",
   "execution_count": null,
   "metadata": {},
   "outputs": [],
   "source": [
    "import pandas as pd\n",
    "Top25 = pd.read_csv(\"podaci/Top 25 YouTubers.csv\")"
   ]
  },
  {
   "cell_type": "markdown",
   "metadata": {},
   "source": [
    "Prikažimo prvih nekoliko redova ove tabele. Funkcija `head(N)` prikazuje prvih N redova tabele (engl. _head_ znači \"glava\"). Ako funkciju pozovemo bez broja ona će prikazati prvih pet redova:"
   ]
  },
  {
   "cell_type": "code",
   "execution_count": null,
   "metadata": {},
   "outputs": [],
   "source": [
    "Top25.head()"
   ]
  },
  {
   "cell_type": "code",
   "execution_count": null,
   "metadata": {},
   "outputs": [],
   "source": [
    "Top25.head(10)"
   ]
  },
  {
   "cell_type": "markdown",
   "metadata": {},
   "source": [
    "Funkcija `tail(N)` prikazuje poslednjih N redova tabele, odnosno, poslednjih pet redova ako je pozvemo bez argumenta (engl. _tail_ znači \"rep\"):"
   ]
  },
  {
   "cell_type": "code",
   "execution_count": null,
   "metadata": {},
   "outputs": [],
   "source": [
    "Top25.tail()"
   ]
  },
  {
   "cell_type": "code",
   "execution_count": null,
   "metadata": {},
   "outputs": [],
   "source": [
    "Top25.tail(7)"
   ]
  },
  {
   "cell_type": "markdown",
   "metadata": {},
   "source": [
    "Prikažimo podatke o broju pretplatnika stubičastim dijagramom:"
   ]
  },
  {
   "cell_type": "code",
   "execution_count": null,
   "metadata": {},
   "outputs": [],
   "source": [
    "plt.figure(figsize=(15,10))\n",
    "plt.bar(Top25[\"NAME\"], Top25[\"SUBSCRIBERS\"])\n",
    "plt.title(\"Top 25 YouTube kanala prema broju pretplatnika\")\n",
    "plt.show()\n",
    "plt.close()"
   ]
  },
  {
   "cell_type": "markdown",
   "metadata": {},
   "source": [
    "Pošto su imena kanala veoma dugačka na horizontalnoj osi se ništa ne vidi. Zato ćemo umesto funkcije `bar` pozvati funkciju `barh` koja radi isti posao, ali stubiće iscrtava horizontalno:"
   ]
  },
  {
   "cell_type": "code",
   "execution_count": null,
   "metadata": {},
   "outputs": [],
   "source": [
    "plt.figure(figsize=(10,10))\n",
    "plt.barh(Top25[\"NAME\"], Top25[\"SUBSCRIBERS\"])\n",
    "plt.title(\"Top 25 YouTube kanala prema broju pretplatnika\")\n",
    "plt.show()\n",
    "plt.close()"
   ]
  },
  {
   "cell_type": "markdown",
   "metadata": {},
   "source": [
    "## 6.5. Učitavanje podataka iz udaljenih resursa\n",
    "\n",
    "Moguće je preuzeti i podatke sa udaljenih resursa bez potrebe da se oni prvo prebace na lokalnu mašinu. Da bismo pristupili podatku koji se nalazi na nekoj drugoj mašini potrebno je da obe mašine imaju pristup Internetu i da znamo tačnu lokaciju podatka na udaljenoj mašini. Tačna lokacija bilo kog resursa na Internetu je opisana njegovim _URL_-om (od engl. _Universal Resource Locator_, što znači \"Univerzalni lokator resursa\").\n",
    "\n",
    "Na adresi\n",
    "\n",
    "    https://raw.githubusercontent.com/cs109/2014_data/master/countries.csv\n",
    "    \n",
    "se nalazi javno dostupan spisak svih država na svetu. Ovu tabelu možemo lako učitati naredbom `read_csv`:"
   ]
  },
  {
   "cell_type": "code",
   "execution_count": null,
   "metadata": {},
   "outputs": [],
   "source": [
    "drzave = pd.read_csv(\"https://raw.githubusercontent.com/cs109/2014_data/master/countries.csv\")\n",
    "drzave.head(10)"
   ]
  },
  {
   "cell_type": "markdown",
   "metadata": {},
   "source": [
    "Pomoću naredbe `read_html` može se pročitati i tabela direktno iz _HTML_ koda neke veb stranice. Recimo, sledeća naredba čita spisak svih federalnih jedinica Sjedinjenih Američkih Država sa odgovarajuće stranice Vikipedije:"
   ]
  },
  {
   "cell_type": "code",
   "execution_count": null,
   "metadata": {},
   "outputs": [],
   "source": [
    "US = pd.read_html(\"https://simple.wikipedia.org/wiki/List_of_U.S._states\", header=[0,1])[0]"
   ]
  },
  {
   "cell_type": "markdown",
   "metadata": {},
   "source": [
    "Na veb strani koju čitamo može biti više tabela i zato funkcija `read_html` vraća _listu tabela_. Tabela koju želimo da vidimo je prva na navedenoj strani i zato iza naredbe sledi konstrukt `[0]`. Argument `header=[0,1]` znači da prve dve vrste treba uzeti za zaglavlje tabele. Evo kako izgleda tabela:"
   ]
  },
  {
   "cell_type": "code",
   "execution_count": null,
   "metadata": {},
   "outputs": [],
   "source": [
    "US.head()"
   ]
  },
  {
   "cell_type": "markdown",
   "metadata": {},
   "source": [
    "## 6.6. Zadaci\n",
    "\n",
    "Zadatke reši u Džupajteru."
   ]
  },
  {
   "cell_type": "markdown",
   "metadata": {},
   "source": [
    "**Zadatak 1.** Pažljivo pogledaj ovaj Pajton program pa odgovori na pitanja koja slede:"
   ]
  },
  {
   "cell_type": "code",
   "execution_count": null,
   "metadata": {},
   "outputs": [],
   "source": [
    "import pandas as pd\n",
    "import matplotlib.pyplot as plt\n",
    "\n",
    "podaci = [[\"Ana\",     \"ž\", 13, 46, 160],\n",
    "          [\"Bojan\",   \"m\", 14, 52, 165],\n",
    "          [\"Vlada\",   \"m\", 13, 47, 157],\n",
    "          [\"Gordana\", \"ž\", 15, 54, 165],\n",
    "          [\"Dejan\",   \"m\", 15, 56, 163],\n",
    "          [\"Đorđe\",   \"m\", 13, 45, 159]]\n",
    "\n",
    "tabela = pd.DataFrame(podaci)\n",
    "tabela.columns=[\"Ime\", \"Pol\", \"Starost\", \"Masa\", \"Visina\"]\n",
    "\n",
    "print(tabela[\"Visina\"].min(), tabela[\"Visina\"].mean(), tabela[\"Visina\"].median())\n",
    "\n",
    "plt.figure(figsize=(10,5))\n",
    "plt.bar(tabela[\"Ime\"], tabela[\"Visina\"])\n",
    "plt.show()\n",
    "plt.close()\n",
    "\n",
    "temp_anomalije = pd.read_csv(\"podaci/TemperaturneAnomalije.csv\", header=None)\n",
    "drzave = pd.read_csv(\"https://raw.githubusercontent.com/cs109/2014_data/master/countries.csv\")\n",
    "US = pd.read_html(\"https://simple.wikipedia.org/wiki/List_of_U.S._states\", header=[0,1])[0]"
   ]
  },
  {
   "cell_type": "markdown",
   "metadata": {},
   "source": [
    "1. Zašto učitavamo dve biblioteke?\n",
    "2. Zašto ne radimo sa podacima u obliku liste, već komplikujemo sebi život strukturom podataka _DataFrame_ iz biblioteke _pandas_?\n",
    "3. Kako se zovu kolone tabele `tabela`?\n",
    "4. U čemu je razlika između funkcija `min`, `mean` i `median`?\n",
    "5. Kako treba izmeniti program pa da na dijagramu pored visine dobijemo i grafički prikaz mase dece?\n",
    "6. Kako bismo učitali tabelu `TemperaturneAnomalije.csv` kada bi ona imala zaglavlje?\n",
    "7. Da li je tabela `drzave` formirana na osnovu podataka koji su smešteni lokalno, na tvom računaru?\n",
    "8. U kom formatu su predstavljeni podaci na osnovu kojih je formirana tabela `US`?\n",
    "9. Šta bi se desilo kada bi u internet pretraživač ukucao `https://simple.wikipedia.org/wiki/List_of_U.S._states`?"
   ]
  },
  {
   "cell_type": "markdown",
   "metadata": {},
   "source": [
    "**Zadatak 2.** U sledećoj listi su dati podaci o nacionalnim parkovima Srbije. Za svaki nacionalni park je navedeno njegovo ime, površina u hektarima i godina osnivanja:"
   ]
  },
  {
   "cell_type": "code",
   "execution_count": null,
   "metadata": {},
   "outputs": [],
   "source": [
    "nac_parkovi = [[\"Fruška gora\", 25393, 1960],\n",
    "               [\"Đerdap\",      64000, 1974],\n",
    "               [\"Tara\",        22000, 1981],\n",
    "               [\"Kopaonik\",    11810, 1981],\n",
    "               [\"Šar-planina\", 39000, 1985]]"
   ]
  },
  {
   "cell_type": "markdown",
   "metadata": {},
   "source": [
    "_(a)_ Od ove liste napravi _DataFrame_ pa izračunaj prosečnu površinu nacionalnog parka (u hektarima), i ukupnu površinu koju zauzimaju nacionalni parkovi u Srbiji (u kvadratnim kilometrima; 1 kvadratni kilometar = 100 hektara)."
   ]
  },
  {
   "cell_type": "markdown",
   "metadata": {},
   "source": [
    "_(b)_ Prikaži linijskim grafikonom površine nacionalnih parkova u Srbiji."
   ]
  },
  {
   "cell_type": "markdown",
   "metadata": {},
   "source": [
    "**Zadatak 3.** Proizvodnja kukuruza i pšenice u periodu 2008-2012. u Srbiji je data u sledećoj tabeli (podaci su iskazani u hiljadama tona):\n",
    "\n",
    "| Godina | Kukuruz | Pšenica |\n",
    "|--|--|--|\n",
    "| 2008. | 6.158 | 2.095 |\n",
    "| 2009. | 6.396 | 2.067 |\n",
    "| 2010. | 7.207 | 1.631 |\n",
    "| 2011. | 6.480 | 2.076 |\n",
    "| 2012. | 3.532 | 1.911 |\n",
    "\n",
    "_(a)_ Napravi odgovarajući _DataFrame_ pa izračunaj maksimalnu proizvodnju kukuruza i minimalnu proizvodnju pšenice u navedenom periodu. (Uputstvo: podatke prvo predstavi listom, a onda od liste napravi _DataFrame_.)"
   ]
  },
  {
   "cell_type": "markdown",
   "metadata": {},
   "source": [
    "_(b)_ Na jednom grafikonu prikaži stubičastim dijagramom proizvodnju pšenice i kukuruza u navedenom periodu. (Vodi računa da prvo iscrtaš podatke za kukuruz, a onda preko toga podatke za pšenicu.)"
   ]
  },
  {
   "cell_type": "markdown",
   "metadata": {},
   "source": [
    "_(v)_ Izračunaj prosečnu godišnju proizvodnju kukuruza za navedeni period, kao i za koliko se razlikovala proizvodnja pšenice u najboljoj i najlošijoj godini navedenog perioda (u hiljadama tona)."
   ]
  },
  {
   "cell_type": "markdown",
   "metadata": {},
   "source": [
    "**Zadatak 4.** Evo troškova života jedne porodice tokom jedne godine, po mesecima (svi iznosi su predstavljeni u dinarima):\n",
    "  \n",
    "  | Stavka | Jan | Feb | Mar | Apr | Maj | Jun | Jul | Avg | Sep | Okt | Nov | Dec |\n",
    "  |--------|-----|-----|-----|-----|-----|-----|-----|-----|-----|-----|-----|-----|\n",
    "  | Stanarina | 8.251 | 8.436 | 8.524 | 8.388 | 8.241 | 8.196 | 8.004 | 7.996 | 7.991 | 8.015 | 8.353 | 8.456 |\n",
    "  | Struja | 4.321 | 4.530 | 4.115 | 3.990 | 3.985 | 3.726 | 3.351 | 3.289 | 3.295 | 3.485 | 3.826 | 3.834 |\n",
    "  | Telefon (fiksni) | 1.425 | 1.538 | 1.623 | 1.489 | 1.521 | 1.485 | 1.491 | 1.399 | 1.467 | 1.531 | 1.410 | 1.385 |\n",
    "  | Telefon (mobilni) | 2.181 | 2.235 | 2.073 | 1.951 | 1.989 | 1.945 | 3.017 | 2.638 | 2.171 | 1.831 | 1.926 | 1.833 |\n",
    "  | TV i internet | 2.399 | 2.399 | 2.399 | 2.399 | 2.399 | 2.399 | 2.399 | 2.399 | 2.399 | 2.399 | 2.399 | 2.399  |\n",
    "  | Prevoz | 1.830 | 1.830 | 1.830 | 1.830 | 1.950 | 1.950 | 1.450 | 1.450 | 1.950 | 1.950 | 2.050 | 2.050 |\n",
    "  | Hrana | 23.250 | 23.780 | 24.019 | 24.117 | 24.389 | 24.571 | 24.736 | 24.951 | 25.111 | 25.389 | 25.531 | 25.923 |\n",
    "  | Ostalo | 4.500 | 3.700 | 5.100 | 3.500 | 2.750 | 4.250 | 7.320 | 8.250 | 3.270 | 4.290 | 3.200 | 8.390 |\n",
    "\n",
    "U ćeliji ispod su isti podaci predstavljeni listom:"
   ]
  },
  {
   "cell_type": "code",
   "execution_count": null,
   "metadata": {},
   "outputs": [],
   "source": [
    "troskovi = [\n",
    "  [\"Stanarina\", 8251, 8436, 8524, 8388, 8241, 8196, 8004, 7996, 7991, 8015, 8353, 8456],\n",
    "  [\"Struja\", 4321, 4530, 4115, 3990, 3985, 3726, 3351, 3289, 3295, 3485, 3826, 3834],\n",
    "  [\"Telefon (fiksni)\", 1425, 1538, 1623, 1489, 1521, 1485, 1491, 1399, 1467, 1531, 1410, 1385],\n",
    "  [\"Telefon (mobilni)\", 2181, 2235, 2073, 1951, 1989, 1945, 3017, 2638, 2171, 1831, 1926, 1833],\n",
    "  [\"TV i internet\", 2399, 2399, 2399, 2399, 2399, 2399, 2399, 2399, 2399, 2399, 2399, 2399 ],\n",
    "  [\"Prevoz\", 1830, 1830, 1830, 1830, 1950, 1950, 1450, 1450, 1950, 1950, 2050, 2050],\n",
    "  [\"Hrana\", 23250, 23780, 24019, 24117, 24389, 24571, 24736, 24951, 25111, 25389, 25531, 25923],\n",
    "  [\"Ostalo\", 4500, 3700, 5100, 3500, 2750, 4250, 7320, 8250, 3270, 4290, 3200, 8390]\n",
    "]"
   ]
  },
  {
   "cell_type": "markdown",
   "metadata": {},
   "source": [
    "_(a)_ Predstavi tabelu strukturom _DataFrame_."
   ]
  },
  {
   "cell_type": "markdown",
   "metadata": {},
   "source": [
    "_(b)_ Izračunaj i ispiši _ukupne_ troškove ove porodice po mesecima (koliko je porodica ukupno potrošila u januarnu, koliko u februaru itd)."
   ]
  },
  {
   "cell_type": "code",
   "execution_count": null,
   "metadata": {},
   "outputs": [],
   "source": []
  },
  {
   "cell_type": "markdown",
   "metadata": {},
   "source": [
    "**Zadatak 5.** U datoteci _podaci/LEB.csv_ nalaze se podaci o očekivanoj dužini života osobe u trenutku rođenja (engl. _Life Expectancy at Birth_), po petogodišnjim periodima."
   ]
  },
  {
   "cell_type": "markdown",
   "metadata": {},
   "source": [
    "_(a)_ Učitaj datoteku u strukturu podataka _DataFrame_."
   ]
  },
  {
   "cell_type": "markdown",
   "metadata": {},
   "source": [
    "_(b)_ Prikaži ove podatke stubičastim dijagramom."
   ]
  },
  {
   "cell_type": "markdown",
   "metadata": {},
   "source": [
    "**Zadatak 6.** Učenici jednog razreda su skakali u dalj. Svaki učenik je skakao tri puta i rezultati su dati u datoteci _SkokUDalj.csv_ koja se nalazi u folderu _podaci_. Tabela ima zaglavlje i sastoji se od četiri kolone: \"Prezime i ime\", \"Skok1\", \"Skok2\" i \"Skok3\".\n",
    "\n",
    "_(a)_ Učitaj datoteku u strukturu podataka _DataFrame_."
   ]
  },
  {
   "cell_type": "markdown",
   "metadata": {},
   "source": [
    "_(b)_ Prikaži ove podatke stubičastim dijagramom koji će imati tri grupe stubića, po jednu za svaki skok. Dijagram treba da ima legendu."
   ]
  },
  {
   "cell_type": "code",
   "execution_count": null,
   "metadata": {},
   "outputs": [],
   "source": []
  },
  {
   "cell_type": "markdown",
   "metadata": {},
   "source": [
    "**Zadatak 7.** Na adresi\n",
    "\n",
    "    https://raw.githubusercontent.com/resbaz/r-novice-gapminder-files/master/data/gapminder-FiveYearData.csv\n",
    "\n",
    "se nalazi javno dostupna tabela sa spiskom država sveta i nekim parametrima ekonomskog razvoja tih država praćenim u intervalima od 5 godina.\n",
    "\n",
    "Tabela ima sledeće kolone:\n",
    "\n",
    "* country = država\n",
    "* year = godina na koju se odnose podaci\n",
    "* pop = broj stanovnika (engl. _population_)\n",
    "* continent = kontinent\n",
    "* lifeExp = očekivani životni vek u godinama (engl. _life expextancy_)\n",
    "* gdpPercap = BDP po glavi stanovnika u američkim dolarima (engl. _GDP per capitem_)\n",
    "\n",
    "Učitaj ovu tabelu u strukturu podataka _DataFrame_ i prikaži prvih 20 redova tabele, kao i poslednjih 10 redova tabele."
   ]
  },
  {
   "cell_type": "code",
   "execution_count": null,
   "metadata": {},
   "outputs": [],
   "source": []
  },
  {
   "cell_type": "markdown",
   "metadata": {},
   "source": [
    "**Zadatak 8.** Sa sledeće adrese\n",
    "\n",
    "    https://www.worldometers.info/world-population/population-by-country/\n",
    "\n",
    "učitaj tabelu koja sadrži podatke o svim državama na svetu i broju njihovih stanovnika. Prikaži prvih i poslednjeih nekoliko redova tabele."
   ]
  },
  {
   "cell_type": "code",
   "execution_count": null,
   "metadata": {},
   "outputs": [],
   "source": []
  }
 ],
 "metadata": {
  "kernelspec": {
   "display_name": "Python 3",
   "language": "python",
   "name": "python3"
  },
  "language_info": {
   "codemirror_mode": {
    "name": "ipython",
    "version": 3
   },
   "file_extension": ".py",
   "mimetype": "text/x-python",
   "name": "python",
   "nbconvert_exporter": "python",
   "pygments_lexer": "ipython3",
   "version": "3.7.1"
  }
 },
 "nbformat": 4,
 "nbformat_minor": 2
}
