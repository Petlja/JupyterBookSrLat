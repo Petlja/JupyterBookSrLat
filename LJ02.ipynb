{
 "cells": [
  {
   "cell_type": "markdown",
   "metadata": {},
   "source": [
    "# 2. Nizovi podataka i linijski dijagrami\n",
    "\n",
    "U ovoj lekciji ćeš naučiti:\n",
    "1. kako da se krećeš kroz Džupajter radnu svesku;\n",
    "2. kako se zapisuju nizovi podataka; i\n",
    "3. kako se prikazuju nizovi podataka linijskim dijagramima."
   ]
  },
  {
   "cell_type": "markdown",
   "metadata": {},
   "source": [
    "## 2.1. Još malo o Džupajter radnoj svesci\n",
    "\n",
    "Džupajter radna sveska se sastoji iz niza ćelija, a svaka ćelija može da sadrži tekst, matematički izraz ili niz Pajton naredbi. Niz ikona pri vrhu strane ti omogućuje da barataš ćelijama Džupajter radne sveske na razne načine.\n",
    "\n",
    "Dugme **Run** smo već koristili. Pogledajmo sada čemu služe još četiri dugmeta:\n",
    "\n",
    "![Četiri dugmeta](slike/JupyterMenu4Buttons.jpg)\n",
    "\n",
    "- Klik na dugme koje liči na disketu (prva sleva) će snimiti radnu svesku.\n",
    "- Klik na dugme sa znakom <b>+</b> će dodati novu ćeliju ispod aktivne ćelije. (Ćeliju aktiviraš tako što klikneš na nju; aktivna ćelija ima <font color=green>***zeleni***</font> ili <font color=blue>***plavi***</font> okvir.)\n",
    "- Strelice na gore i na dole pomeraju radnu ćeliju za jedno mesto gore ili dole."
   ]
  },
  {
   "cell_type": "markdown",
   "metadata": {},
   "source": [
    "Na primer, čitaš ovaj tekst i odjednom osetiš snažnu želju da izračunaš vrednost izraza $1 + \\frac 12 + \\frac 13 + \\frac 14 + \\frac 15 + \\frac 16 + \\frac 17$. Tada treba da klikneš na ovu ćeliju (koju upravo čitaš) i onda na dugme sa znakom **+**. U novoj ćeliji koja će se pojaviti ispod možeš da uneseš izraz, a Pajton će ga izračunati:"
   ]
  },
  {
   "cell_type": "code",
   "execution_count": null,
   "metadata": {},
   "outputs": [],
   "source": [
    "1 + 1/2 + 1/3 + 1/4 + 1/5 + 1/6 + 1/7"
   ]
  },
  {
   "cell_type": "markdown",
   "metadata": {},
   "source": [
    "U osam ćelija koje slede navedeni su stihovi poznate engleske dečije brojalice. Stihovi su ispreturani. Koristeći dugmiće sa strelicama preuredi ćelije tako da dobiješ tekst brojalice."
   ]
  },
  {
   "cell_type": "markdown",
   "metadata": {},
   "source": [
    "_Once I caught a fish alive,_"
   ]
  },
  {
   "cell_type": "markdown",
   "metadata": {},
   "source": [
    "_Then I let it go again._"
   ]
  },
  {
   "cell_type": "markdown",
   "metadata": {},
   "source": [
    "_Which finger did it bite?_"
   ]
  },
  {
   "cell_type": "markdown",
   "metadata": {},
   "source": [
    "_Why did you let it go?_"
   ]
  },
  {
   "cell_type": "markdown",
   "metadata": {},
   "source": [
    "_Because it bit my finger so._"
   ]
  },
  {
   "cell_type": "markdown",
   "metadata": {},
   "source": [
    "_This little finger on my right._"
   ]
  },
  {
   "cell_type": "markdown",
   "metadata": {},
   "source": [
    "_One, two, three, four, five,_"
   ]
  },
  {
   "cell_type": "markdown",
   "metadata": {},
   "source": [
    "_Six, seven, eight, nine, ten,_"
   ]
  },
  {
   "cell_type": "markdown",
   "metadata": {},
   "source": [
    "## 2.2. Zapisivanje nizova podataka"
   ]
  },
  {
   "cell_type": "markdown",
   "metadata": {},
   "source": [
    "Nizovi podataka se u Pajtonu zapisuju unutar uglastih zagrada, u obliku _liste_. Na primer, ocene nekog učenika iz jednog predmeta mogu da se zapišu kao niz ovako:"
   ]
  },
  {
   "cell_type": "code",
   "execution_count": null,
   "metadata": {},
   "outputs": [],
   "source": [
    "ocene = [2, 4, 5, 3, 5]"
   ]
  },
  {
   "cell_type": "markdown",
   "metadata": {},
   "source": [
    "Sistem nije vratio nikakav izlaz, naravno. On je samo konstatovao da promenljiva `ocene` sada sadrži niz koji se sastoji od pet brojeva. Da bismo se uverili da je to tako, zatražićemo od sistema da izračuna sledeći izraz:"
   ]
  },
  {
   "cell_type": "code",
   "execution_count": null,
   "metadata": {},
   "outputs": [],
   "source": [
    "ocene"
   ]
  },
  {
   "cell_type": "markdown",
   "metadata": {},
   "source": [
    "Moguće je raditi i sa nizovima stringova:"
   ]
  },
  {
   "cell_type": "code",
   "execution_count": null,
   "metadata": {},
   "outputs": [],
   "source": [
    "predmeti = [\"matematika\", \"srpski\", \"likovno\", \"istorija\", \"fizičko\"]"
   ]
  },
  {
   "cell_type": "markdown",
   "metadata": {},
   "source": [
    "Sistem ni ovaj put nije vratio nikakav izlaz, već je samo zapamtio da promenljiva `predmeti` sada sadrži niz od pet stringova (imena predmeta). Evo sadržaja promenljive `predmeti`:"
   ]
  },
  {
   "cell_type": "code",
   "execution_count": null,
   "metadata": {},
   "outputs": [],
   "source": [
    "predmeti"
   ]
  },
  {
   "cell_type": "markdown",
   "metadata": {},
   "source": [
    "Dužinu niza možemo dobiti pozivom ugrađene funkcije `len` (što je skraćenica engleske reči _length_ koja znači \"dužina\"):"
   ]
  },
  {
   "cell_type": "code",
   "execution_count": null,
   "metadata": {},
   "outputs": [],
   "source": [
    "len(predmeti)"
   ]
  },
  {
   "cell_type": "markdown",
   "metadata": {},
   "source": [
    "## 2.3. Prikazivanje nizova podataka"
   ]
  },
  {
   "cell_type": "markdown",
   "metadata": {},
   "source": [
    "U narednoj ćeliji prikazan je procenjeni broj stanovnika naše planete u raznim istorijskim periodima, pri čemu je broj ljudi iskazan u milijardama:"
   ]
  },
  {
   "cell_type": "code",
   "execution_count": null,
   "metadata": {},
   "outputs": [],
   "source": [
    "godine = [1000,  1500, 1650, 1750, 1804, 1850, 1900, 1930, 1950, 1960, 1974, 1980, 1987, 1999, 2011, 2020, 2023, 2030, 2037, 2045, 2055, 2100]\n",
    "ljudi  = [0.275, 0.45, 0.5,  0.7,  1,    1.2,  1.6,  2,    2.55, 3,    4,    4.5,  5,    6,    7,    7.8,  8,    8.5,  9,    9.5,  10,   11.2]"
   ]
  },
  {
   "cell_type": "markdown",
   "metadata": {},
   "source": [
    "Želeli bismo da prikažemo ove podatke u vidu grafikona (da ih _vizuelizujemo_) zato što ljudi najlakše i najbrže obrađuju vizuelne podatke. (Verovatno znaš za izreku da _jedna slika vredi više od hiljadu reči_.)\n",
    "\n",
    "Pajton ima razne biblioteke za vizuelizaciju podataka, a mi ćemo koristiti biblioteku koja se zove `matplotlib.pyplot`. Pošto je ovo ime veoma dugačko i komplikovano i pošto će nam trebati mnogo funkcija iz te biblioteke nećemo uvoziti funkcije jednu po jednu već ćemo uvesti celu biblioteku i pri tome joj dati kraće ime (takoreći, nadimak) `plt`. (Engleska reč _plot_ znači \"iscrtati\", a `plt` je skraćeno od `plot`.)"
   ]
  },
  {
   "cell_type": "code",
   "execution_count": null,
   "metadata": {},
   "outputs": [],
   "source": [
    "import matplotlib.pyplot as plt"
   ]
  },
  {
   "cell_type": "markdown",
   "metadata": {},
   "source": [
    "Sada su nam sve funkcije iz ove biblioteke dostupne. Važno je napomenuti da _jedan_ `import` _važi za celu radnu svesku!_ Dakle, dovoljno je biblioteku uvesti jednom u radnoj svesci. Takođe je važno reći da ćemo u novoj radnoj svesci morati ponovo da \"importujemo\" biblioteke koje nam trebaju za rad.\n",
    "\n",
    "**Jedan import po radnoj svesci!**\n",
    "\n",
    "Ako se zabuniš pa pokušaš biblioteku da importuješ dva puta -- nema brige. Pajton se neće buniti, ali neće gubiti vreme na to da dva puta učitava istu biblioteku.\n",
    "\n",
    "Natrag na crtanje grafikona. Najjednostavniji grafikon se može dobiti ovako:\n"
   ]
  },
  {
   "cell_type": "code",
   "execution_count": null,
   "metadata": {},
   "outputs": [],
   "source": [
    "plt.plot(godine, ljudi)\n",
    "plt.show()\n",
    "plt.close()"
   ]
  },
  {
   "cell_type": "markdown",
   "metadata": {},
   "source": [
    "Funkcija `plot(godine, ljudi)` kaže sistemu da treba nacrtati grafikon kome su na horizontalnu osu ($x$-osa) naneti podaci iz niza `godine`, a na vertikalnu osu ($y$-osa) podaci iz niza `ljudi`. Funkcija `show` potom prikazuje grafikon. (Engleska reč _plot_ znači \"iscrtati\", a engleska reč _show_ znači \"prikazati\".) Konačno, funkcija `close` završava rad na grafikonu (engleska reč _close_ znači \"zatvori\").\n",
    "\n",
    "Vidimo da su podaci predstavljeni linijom. Zato se ova vrsta grafikona zove _linijski grafikon_.\n",
    "\n",
    "Pošto nismo uvozili pojedinačne funkcije već smo celu biblioteku uvezli pod nadimkom `plt`, funkcije `plot`, `show` i `close` moramo da pozovemo \"punim prezimenom i imenom\": `plt.plot`, `plt.show` i `plt.close`.\n",
    "\n",
    "U narednom koraku ćemo grafikonu dodati naslov koristeći funkciju `title` (engleska reč _title_ znači \"naslov\"):"
   ]
  },
  {
   "cell_type": "code",
   "execution_count": null,
   "metadata": {},
   "outputs": [],
   "source": [
    "plt.plot(godine, ljudi)\n",
    "plt.title(\"Broj stanovnika na Zemlji\")\n",
    "plt.show()\n",
    "plt.close()"
   ]
  },
  {
   "cell_type": "markdown",
   "metadata": {},
   "source": [
    "Možemo staviti oznaku i na vertikalnu osu da bismo naglasili da se radi o brojevima koji su iskazani u milijardama. Za to koristimo funkciju `ylabel` (\"oznaka na $y$-osi\"; engleska reč _label_ znači \"oznaka\"):"
   ]
  },
  {
   "cell_type": "code",
   "execution_count": null,
   "metadata": {},
   "outputs": [],
   "source": [
    "plt.plot(godine, ljudi)\n",
    "plt.title(\"Broj stanovnika na Zemlji\")\n",
    "plt.ylabel(\"(milijarde)\")\n",
    "plt.show()\n",
    "plt.close()"
   ]
  },
  {
   "cell_type": "markdown",
   "metadata": {},
   "source": [
    "Da zaključimo: funkcijama `plot`, `title` i `ylabel` dodajemo podatke na grafikon, i tek kada smo uneli sve podatke koje želimo da imamo na grafikonu crtamo grafikon pozivom funkcije `show`. Na kraju pozivamo funkciju `close` da počisti za nama."
   ]
  },
  {
   "cell_type": "markdown",
   "metadata": {},
   "source": [
    "## 2.4. Zadaci"
   ]
  },
  {
   "cell_type": "markdown",
   "metadata": {},
   "source": [
    "**Zadatak 1.** Sledeći program crta grafikon koji predstavlja procenjeni broj ljudi na Zemlji u raznim periodima:"
   ]
  },
  {
   "cell_type": "code",
   "execution_count": null,
   "metadata": {},
   "outputs": [],
   "source": [
    "import matplotlib.pyplot as plt\n",
    "plt.plot(godine, ljudi)\n",
    "plt.title(\"Broj stanovnika na Zemlji\")\n",
    "plt.ylabel(\"(milijarde)\")\n",
    "plt.show()\n",
    "plt.close()"
   ]
  },
  {
   "cell_type": "markdown",
   "metadata": {},
   "source": [
    "1. Čemu služi naredba `import ... as ..`?\n",
    "2. Zašto pišemo `plt.plot`, a ne prosto `plot`?\n",
    "3. Čemu služi funkcija `plot`?\n",
    "4. Čemu služe funkcije `title` i `ylabel`?\n",
    "5. Čemu služe funkcije `show` i `close`?"
   ]
  },
  {
   "cell_type": "markdown",
   "metadata": {},
   "source": [
    "Sledeće zadatke reši u Džupajteru."
   ]
  },
  {
   "cell_type": "markdown",
   "metadata": {},
   "source": [
    "**Zadatak 2.** U narednoj ćeliji dati su podaci o masi (u kilogramima) i dužini/visini (u centimetrima) jednog dečaka od njegovog šestog meseca pa do njegovih 6,5 godina."
   ]
  },
  {
   "cell_type": "code",
   "execution_count": null,
   "metadata": {},
   "outputs": [],
   "source": [
    "merenja   = [\"6 mes\", \"1,5 god\", \"2,5 god\", \"3,5 god\", \"4,5 god\", \"5,5 god\", \"6,5 god\"]\n",
    "masaKG    = [5.9,     11.5,      14.8,      20.5,      22.0,      24.2,      29.0     ]\n",
    "visinaCM  = [62.0,    84.0,      97.0,      115.0,     122.5,     131.5,     135.0    ]"
   ]
  },
  {
   "cell_type": "markdown",
   "metadata": {},
   "source": [
    "Prikaži jednim grafikonom kako se menjala njegova masa, a drugim kako se menjala njegova visina."
   ]
  },
  {
   "cell_type": "markdown",
   "metadata": {},
   "source": [
    "**Zadatak 3.** _Indeks telesne težine_ (engl. _body mass index_, BMI) predstavlja količnik telesne mase izražene u kilogramima i kvadrata telesne visine u izražene u metrima:\n",
    "\n",
    "$$\\hbox{BMI} = \\frac{\\hbox{masa u kilogramima}}{(\\hbox{visina u metrima})^2}$$\n",
    "\n",
    "Za dečaka iz Zadatka 2 prikaži grafikonom promenu njegovog indeksa telesne težine. Može ti pomoći sledeći mali Pajton program koji računa njegove indekse telesne težine za svako merenje."
   ]
  },
  {
   "cell_type": "code",
   "execution_count": null,
   "metadata": {},
   "outputs": [],
   "source": [
    "BMI = [0, 0, 0, 0, 0, 0, 0]\n",
    "for i in range(0, 7):\n",
    "    BMI[i] = masaKG[i] / (visinaCM[i] / 100.0)**2"
   ]
  },
  {
   "cell_type": "markdown",
   "metadata": {},
   "source": [
    "**Zadatak 4.** Procenjuje se da je Kina na dan 1.7.2019. imala 1.420.062.022 stanovnika. Broj stanovnika u Kini se svake godine poveća za 0,35%. Pod pretpostavkom da se godišnji rast broja stanovnika u Kini neće menjati, prikazati grafikonom očekivani broj stanovnika Kine u narednih deset godina."
   ]
  },
  {
   "cell_type": "code",
   "execution_count": null,
   "metadata": {},
   "outputs": [],
   "source": []
  },
  {
   "cell_type": "markdown",
   "metadata": {},
   "source": [
    "**Zadatak 5.** Svaka država ima organizovanu službu koja pažljivo beleži podatke o vremenskim prilikama zato što je to važno za saobraćaj, poljoprivredu, ali i sve ostale privredne grane.\n",
    "\n",
    "Na sajtu Republičkog hidrometeorološkog zavoda Srbije (http://www.hidmet.gov.rs/) u meniju sa leve strane klikni na \"Meteorologija\", pa \"Klimatologija\", pa na \"Normale\". Potom u spisku stanica za osmatranje koji se pojavio odaberi stanicu najbližu tvojoj školi, preuzmi najniže i najviše temperature u periodu 1981-2010 (redovi \"Apsolutni maksimum\" i \"Apsolutni minimum\") i prikaži te podatke."
   ]
  },
  {
   "cell_type": "code",
   "execution_count": null,
   "metadata": {},
   "outputs": [],
   "source": []
  }
 ],
 "metadata": {
  "kernelspec": {
   "display_name": "Python 3",
   "language": "python",
   "name": "python3"
  },
  "language_info": {
   "codemirror_mode": {
    "name": "ipython",
    "version": 3
   },
   "file_extension": ".py",
   "mimetype": "text/x-python",
   "name": "python",
   "nbconvert_exporter": "python",
   "pygments_lexer": "ipython3",
   "version": "3.7.1"
  }
 },
 "nbformat": 4,
 "nbformat_minor": 2
}
